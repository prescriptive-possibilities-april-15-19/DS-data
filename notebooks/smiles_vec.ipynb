{
 "cells": [
  {
   "cell_type": "code",
   "execution_count": 1,
   "metadata": {},
   "outputs": [],
   "source": [
    "import pickle\n",
    "import numpy as np\n",
    "\n",
    "\n",
    "def smiles2vec(pad_length, smiles):\n",
    "    vec = np.zeros((pad_length, 128))\n",
    "    ind = [ord(x) for x in smiles]\n",
    "    for i in range(len(ind)):\n",
    "        vec[i, ind[i]] = 1.0\n",
    "    return vec\n",
    "\n",
    "\n",
    "with open(\"../models/sml_vec.pickle\", \"wb\") as fp:\n",
    "    pickle.dump(smiles2vec, fp)"
   ]
  },
  {
   "cell_type": "code",
   "execution_count": null,
   "metadata": {},
   "outputs": [],
   "source": []
  }
 ],
 "metadata": {
  "kernelspec": {
   "display_name": "Python 3",
   "language": "python",
   "name": "python3"
  },
  "language_info": {
   "codemirror_mode": {
    "name": "ipython",
    "version": 3
   },
   "file_extension": ".py",
   "mimetype": "text/x-python",
   "name": "python",
   "nbconvert_exporter": "python",
   "pygments_lexer": "ipython3",
   "version": "3.6.6"
  }
 },
 "nbformat": 4,
 "nbformat_minor": 2
}
