{
 "cells": [
  {
   "cell_type": "code",
   "execution_count": 1,
   "metadata": {},
   "outputs": [
    {
     "name": "stderr",
     "output_type": "stream",
     "text": [
      "Using TensorFlow backend.\n"
     ]
    }
   ],
   "source": [
    "import pandas as pd\n",
    "import numpy as np\n",
    "import pickle\n",
    "\n",
    "from keras.models import Model\n",
    "from keras.layers import Input, Dense, Embedding, Concatenate\n",
    "from keras.layers import LSTM\n",
    "\n",
    "seed = 42\n",
    "np.random.seed(seed)\n",
    "num_samples = 100\n",
    "lstm_size = 128\n",
    "dropout = 0.2\n",
    "rec_dropout = 0.2\n",
    "epochs = 20\n",
    "batch_size = 128\n",
    "pad_length = 1000"
   ]
  },
  {
   "cell_type": "code",
   "execution_count": 2,
   "metadata": {},
   "outputs": [],
   "source": [
    "def sml_vec(pad_length, smiles):\n",
    "    vec = np.zeros((pad_length, 128))\n",
    "    ind = [ord(x) for x in smiles]\n",
    "    for i in range(len(ind)):\n",
    "        vec[i, ind[i]] = 1.0\n",
    "    return vec"
   ]
  },
  {
   "cell_type": "code",
   "execution_count": 3,
   "metadata": {},
   "outputs": [
    {
     "name": "stdout",
     "output_type": "stream",
     "text": [
      "10000\n"
     ]
    }
   ],
   "source": [
    "with open(\"../models/tfidf.pickle\", \"rb\") as fp:\n",
    "    tfidf = pickle.load(fp)\n",
    "    seq_vec_length = len(tfidf.vocabulary_)\n",
    "with open(\"../models/PUC.pickle\", \"rb\") as fp:\n",
    "    PUC_models = pickle.load(fp)\n",
    "for k in PUC_models:\n",
    "    PUC_models[k] = pickle.loads(PUC_models[k])\n",
    "print(seq_vec_length)"
   ]
  },
  {
   "cell_type": "code",
   "execution_count": 4,
   "metadata": {},
   "outputs": [],
   "source": [
    "df_ligands = pd.read_csv(\"../data/ligands.csv\", index_col=\"id\", usecols=[\"id\", \"SMILES\"])\n",
    "df_sequences = pd.read_csv(\"../data/sequences.csv\", index_col=0)"
   ]
  },
  {
   "cell_type": "code",
   "execution_count": 5,
   "metadata": {},
   "outputs": [
    {
     "name": "stdout",
     "output_type": "stream",
     "text": [
      "0\n",
      "1\n",
      "2\n",
      "3\n",
      "4\n",
      "5\n",
      "6\n",
      "7\n",
      "8\n",
      "9\n",
      "10\n",
      "11\n",
      "12\n",
      "13\n",
      "14\n",
      "15\n",
      "16\n",
      "17\n",
      "18\n",
      "19\n",
      "20\n",
      "21\n",
      "22\n",
      "23\n",
      "24\n",
      "25\n",
      "26\n",
      "27\n",
      "28\n",
      "29\n",
      "30\n",
      "31\n",
      "32\n",
      "33\n"
     ]
    }
   ],
   "source": [
    "df_total = pd.DataFrame()\n",
    "for i, k in enumerate(PUC_models):\n",
    "    print(i)\n",
    "    df_temp = pd.DataFrame()\n",
    "    bc_model = PUC_models[k]\n",
    "    smiles = df_ligands.loc[i, \"SMILES\"]\n",
    "    if len(smiles) < pad_length:\n",
    "        seq_samp = df_sequences.sample(n=num_samples, random_state=seed+i)\n",
    "        df_temp[\"seq_id\"] = seq_samp.index.values\n",
    "        df_temp[\"seq_sequence\"] = seq_samp[\"sequence\"].values\n",
    "        df_temp[\"seq_vec\"] = df_temp[\"seq_sequence\"].apply(lambda x: tfidf.transform([x])[0].toarray()[0])\n",
    "#         df_temp[\"seq_vec\"] = df_temp[\"seq_vec\"].apply(lambda x: np.repeat(x.reshape((1,-1)), pad_length, axis=0))\n",
    "        df_temp[\"lig_id\"] = i\n",
    "        df_temp[\"lig_SMILES\"] = smiles\n",
    "        smlvec = sml_vec(pad_length, smiles)\n",
    "        df_temp[\"lig_vec\"] = 0\n",
    "        df_temp[\"lig_vec\"] = df_temp[\"lig_vec\"].apply(lambda x: smlvec)\n",
    "        df_temp[\"lig_vec\"] = df_temp[\"lig_vec\"].apply(lambda x: np.concatenate((x, np.zeros((pad_length - x.shape[0], 128)))))\n",
    "        df_temp[\"pred_binding\"] =df_temp[\"seq_vec\"].apply(lambda x: bc_model.predict([x]))\n",
    "        df_total = pd.concat([df_total, df_temp], ignore_index=True)"
   ]
  },
  {
   "cell_type": "code",
   "execution_count": 24,
   "metadata": {},
   "outputs": [
    {
     "name": "stdout",
     "output_type": "stream",
     "text": [
      "(3400, 1000, 128)\n",
      "(3400, 10000)\n"
     ]
    }
   ],
   "source": [
    "print(np.array([x for x in df_total[\"lig_vec\"].values]))\n",
    "print(np.array([x for x in df_total[\"seq_vec\"].values]))"
   ]
  },
  {
   "cell_type": "code",
   "execution_count": null,
   "metadata": {},
   "outputs": [],
   "source": [
    "df_total[\"t_vec\"] = 0\n",
    "for i in df_total.index:\n",
    "    lig_vec = df_total.loc[i,\"lig_vec\"]\n",
    "    seq_vec = df_total.loc[i,\"seq_vec\"]\n",
    "    df_total.loc[i, [\"t_vec\"]] = np.concatenate((lig_vec, seq_vec), axis=1)"
   ]
  },
  {
   "cell_type": "code",
   "execution_count": 35,
   "metadata": {},
   "outputs": [],
   "source": [
    "indices = df_total.index.values\n",
    "\n",
    "df_test = df_total.loc[df_total.index.isin(indices[:num_samples*len(PUC_models)//5])]\n",
    "df_fit = df_total.loc[df_total.index.isin(indices[num_samples*len(PUC_models)//5:])]\n",
    "df_train = df_fit.sample(frac=0.8, random_state=seed)\n",
    "df_val  = df_fit.loc[~df_fit.index.isin(df_train.index)]\n",
    "\n",
    "X_train_a = np.array([x for x in df_train[\"lig_vec\"].values])\n",
    "X_train_b = np.array([x for x in df_train[\"seq_vec\"].values])\n",
    "X_val_a = np.array([x for x in df_val[\"lig_vec\"].values])\n",
    "X_val_b = np.array([x for x in df_val[\"seq_vec\"].values])\n",
    "X_test_a = np.array([x for x in df_test[\"lig_vec\"].values])\n",
    "X_test_b = np.array([x for x in df_test[\"seq_vec\"].values])\n",
    "y_train = df_train[\"pred_binding\"].values\n",
    "y_val = df_val[\"pred_binding\"].values\n",
    "y_test = df_val[\"pred_binding\"].values"
   ]
  },
  {
   "cell_type": "code",
   "execution_count": null,
   "metadata": {},
   "outputs": [],
   "source": [
    "inp_a = Input(shape=(pad_length, 128,))\n",
    "x_a = LSTM(lstm_size, dropout=dropout, recurrent_dropout=rec_dropout)(inp_a)\n",
    "inp_b = Input(shape=(seq_vec_length,))\n",
    "x = Concatenate()([x_a,inp_b])\n",
    "x = Dense(1, activation='sigmoid')(x)\n",
    "model = Model(inputs=[inp_a,inp_b], outputs=[x])\n",
    "model.compile(loss='binary_crossentropy', optimizer='adam', metrics=['accuracy'])\n",
    "model.fit([X_train_a,X_train_b], y_train, batch_size=batch_size, epochs=epochs, validation_data=([X_val_a,X_val_b], y_val), verbose=1)"
   ]
  },
  {
   "cell_type": "code",
   "execution_count": null,
   "metadata": {},
   "outputs": [],
   "source": [
    "score, acc = model.evaluate([X_test_a,X_test_b], y_test, batch_size=batch_size)\n",
    "print('Test score:', score)\n",
    "print('Test accuracy:', acc)"
   ]
  },
  {
   "cell_type": "code",
   "execution_count": null,
   "metadata": {},
   "outputs": [],
   "source": []
  }
 ],
 "metadata": {
  "kernelspec": {
   "display_name": "Python 3",
   "language": "python",
   "name": "python3"
  },
  "language_info": {
   "codemirror_mode": {
    "name": "ipython",
    "version": 3
   },
   "file_extension": ".py",
   "mimetype": "text/x-python",
   "name": "python",
   "nbconvert_exporter": "python",
   "pygments_lexer": "ipython3",
   "version": "3.7.1"
  }
 },
 "nbformat": 4,
 "nbformat_minor": 2
}
