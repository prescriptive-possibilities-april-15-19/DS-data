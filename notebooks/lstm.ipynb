{
 "cells": [
  {
   "cell_type": "code",
   "execution_count": null,
   "metadata": {},
   "outputs": [],
   "source": [
    "import pandas as pd\n",
    "import numpy as np\n",
    "import pickle\n",
    "\n",
    "from keras.models import Sequential\n",
    "from keras.layers import Dense, Embedding\n",
    "from keras.layers import LSTM\n",
    "\n",
    "seed = 42\n",
    "np.random.seed(seed)\n",
    "num_samples = 1000\n",
    "lstm_size = 128\n",
    "dropout = 0.2\n",
    "rec_dropout = 0.2\n",
    "epochs = 20\n",
    "batch_size = 128\n",
    "pad_length = 1000"
   ]
  },
  {
   "cell_type": "code",
   "execution_count": null,
   "metadata": {},
   "outputs": [],
   "source": [
    "with open(\"../models/tfidf.pickle\", \"rb\") as fp:\n",
    "    tfidf = pickle.load(fp)\n",
    "    seq_vec_length = len(tfidf.vocabulary_)\n",
    "with open(\"../models/PUC.pickle\", \"rb\") as fp:\n",
    "    PUC_models = pickle.load(fp)\n",
    "with open(\"../models/sml_vec.pickle\", \"rb\") as fp:\n",
    "    sml_vec = pickle.load(fp)"
   ]
  },
  {
   "cell_type": "code",
   "execution_count": null,
   "metadata": {},
   "outputs": [],
   "source": [
    "df_ligands = pd.read_csv(\"ligands.csv\", index_col=\"id\", usecols=[\"id\", \"SMILES\"])\n",
    "df_sequences = pd.read_csv(\"sequences.csv\", index_col=\"index\")"
   ]
  },
  {
   "cell_type": "code",
   "execution_count": null,
   "metadata": {},
   "outputs": [],
   "source": [
    "df_total = pd.DataFrame()\n",
    "for i, k in enumerate(PUC_models):\n",
    "    df_temp = pd.DataFrame()\n",
    "    bc_model = pickle.loads(PUC_models[k])\n",
    "    smiles = df_ligands.loc[i, \"SMILES\"]\n",
    "    if len(smiles) < pad_length:\n",
    "        df_temp[\"lig_id\"] = i\n",
    "        df_temp[\"lig_SMILES\"] = smiles\n",
    "        df_temp[\"lig_vec\"] = sml_vec(pad_length, smiles)\n",
    "        df_temp[\"lig_vec\"] = df_temp[\"lig_vec\"].apply(lambda x: np.concatenate((x, np.zeros((pad_length - x.shape[0], 128)))))\n",
    "        seq_samp = df_sequences.sample(n=num_samples, random_state=seed+i)\n",
    "        df_temp[\"seq_id\"] = seq_samp.index\n",
    "        df_temp[\"seq_sequence\"] = seq_samp[\"sequence\"]\n",
    "        df_temp[\"seq_vec\"] = df_temp[\"seq_sequence\"].apply(lambda x: tfidf.transform([x])[0])\n",
    "        df_temp[\"pred_binding\"] = df_temp[\"seq_vec\"].apply(lambda x: np.repeat(bc_model.predict([x]), pad_length, axis=0))\n",
    "        df_total = pd.concat([df_total, df_temp], ignore_index=True)\n",
    "df_total[\"t_vec\"] = 0\n",
    "for i in df_total.index:\n",
    "    lig_vec = df_total.loc[i,\"lig_vec\"]\n",
    "    seq_vec = df_total.loc[i,\"seq_vec\"]\n",
    "    df_total.loc[i, [\"t_vec\"]] = np.concatenate((lig_vec, seq_data), axis=1)"
   ]
  },
  {
   "cell_type": "code",
   "execution_count": null,
   "metadata": {},
   "outputs": [],
   "source": [
    "df_train = df_total.sample(frac=0.8, random_state=seed)\n",
    "df_test  = df_total.loc[~df_total.index.isin(df_train.index)]\n",
    "\n",
    "X_train = df_train[\"t_vec\"].values\n",
    "X_test = df_test[\"t_vec\"].values\n",
    "y_train = df_train[\"pred_binding\"].values\n",
    "y_test = df_test[\"pred_binding\"].values"
   ]
  },
  {
   "cell_type": "code",
   "execution_count": null,
   "metadata": {},
   "outputs": [],
   "source": [
    "model = Sequential()\n",
    "model.add(LSTM(lstm_size, input_shape=(max_features, 128+seq_vec_length), dropout=dropout, recurrent_dropout=rec_dropout))\n",
    "model.add(Dense(1, activation='sigmoid'))\n",
    "model.compile(loss='binary_crossentropy', optimizer='adam', metrics=['accuracy'])\n",
    "\n",
    "model.fit(x_train, y_train, batch_size=batch_size, epochs=epochs, validation_data=(x_test, y_test))"
   ]
  },
  {
   "cell_type": "code",
   "execution_count": null,
   "metadata": {},
   "outputs": [],
   "source": [
    "score, acc = model.evaluate(x_test, y_test, batch_size=batch_size)\n",
    "print('Test score:', score)\n",
    "print('Test accuracy:', acc)"
   ]
  }
 ],
 "metadata": {
  "kernelspec": {
   "display_name": "Python 3",
   "language": "python",
   "name": "python3"
  },
  "language_info": {
   "codemirror_mode": {
    "name": "ipython",
    "version": 3
   },
   "file_extension": ".py",
   "mimetype": "text/x-python",
   "name": "python",
   "nbconvert_exporter": "python",
   "pygments_lexer": "ipython3",
   "version": "3.7.1"
  }
 },
 "nbformat": 4,
 "nbformat_minor": 2
}
