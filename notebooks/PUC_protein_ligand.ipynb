{
 "cells": [
  {
   "cell_type": "code",
   "execution_count": null,
   "metadata": {},
   "outputs": [],
   "source": [
    "import pandas as pd\n",
    "import numpy as np\n",
    "import pickle\n",
    "\n",
    "seed = 42\n",
    "np.random.seed(seed)\n",
    "lig_num = 10\n",
    "sample_size = 1000\n",
    "estimators = 100"
   ]
  },
  {
   "cell_type": "code",
   "execution_count": null,
   "metadata": {},
   "outputs": [],
   "source": [
    "with open(\"../models/tfidf.pickle\", \"rb\") as fp:\n",
    "    tfidf = pickle.load(fp)"
   ]
  },
  {
   "cell_type": "code",
   "execution_count": null,
   "metadata": {},
   "outputs": [],
   "source": [
    "df_sequences = pd.read_csv(\"sequences.csv\", index_col=\"index\")\n",
    "df_binding = pd.read_csv(\"lig2seq.csv\")\n",
    "\n",
    "lig_id_vals = list(np.random.sample(df_binding[\"lig\"].unique(), size=lig_num))\n",
    "df_binding = df_binding.loc[df_binding[\"lig\"].isin(lig_ids_vals)]\n",
    "df_binding[\"seq\"] = df_binding[\"seq\"].apply(lambda x: df_sequences.loc[x, \"sequence\"])"
   ]
  },
  {
   "cell_type": "code",
   "execution_count": null,
   "metadata": {},
   "outputs": [],
   "source": [
    "from utils.baggingPU import BaggingClassifierPU\n",
    "from sklearn.tree import DecisionTreeClassifier\n",
    "\n",
    "\n",
    "models = {}\n",
    "for i, lig_id in enumerate(lig_id_vals):\n",
    "    seq_id = list(df_binding.loc[df_binding[\"lig\"]==lig_id, \"seq\"])\n",
    "    if len(seq_id) < sample_size//2 and len(seq_id) > 0:\n",
    "        print(len(seq_id))\n",
    "        df_seq_sub_neg = df_sequences.loc[~df_sequences.index.isin(seq_id)].sample(n=sample_size-len(seq_id), random_state=seed+i)\n",
    "        df_seq_sub_neg[\"bind\"] = 0\n",
    "        df_seq_sub_neg[\"bind_t\"] = 0\n",
    "        df_seq_sub_pos = df_sequences.loc[df_sequences.index.isin(seq_id)].sample(frac=0.75, random_state=seed+i)\n",
    "        df_seq_sub_pos[\"bind\"] = 1\n",
    "        df_seq_sub_pos[\"bind_t\"] = 1\n",
    "        df_seq_sub_pos_hid = df_sequences.loc[(df_sequences.index.isin(seq_id))&&(~df_sequences.index.isin(df_seq_sub_pos.index))]\n",
    "        df_seq_sub_pos_hid[\"bind\"] = 0\n",
    "        df_seq_sub_pos_hid[\"bind_t\"] = 1\n",
    "        \n",
    "        df_fitter = pd.concat([df_seq_sub_neg, df_seq_sub_pos, df_seq_sub_pos_hid])\n",
    "        df_fitter[\"sequence\"] = df_fitter[\"sequence\"].apply(tfidf.transform([x]))\n",
    "        results[[\"truth\", \"label\"]] = df_fitter[[\"bind\", \"bind_t\"]]\n",
    "        \n",
    "        X = np.array([df_fitter[\"sequence\"].values[i] for i in range(df_fitter[\"sequence\"].values.shape[0])])\n",
    "        y = df_fitter[\"bind\"]\n",
    "        \n",
    "        bc = BaggingClassifierPU(DecisionTreeClassifier(), n_estimators=estimators, n_jobs=-1, max_samples=sum(y))\n",
    "        bc.fit(X, y)\n",
    "        models[lig_id] = pickle.dumps(bc)"
   ]
  },
  {
   "cell_type": "code",
   "execution_count": null,
   "metadata": {},
   "outputs": [],
   "source": [
    "with open(\"../models/PUC.pickle\", \"wb\") as fp:\n",
    "    pickle.dump(models, fp)"
   ]
  }
 ],
 "metadata": {
  "kernelspec": {
   "display_name": "Python 3",
   "language": "python",
   "name": "python3"
  },
  "language_info": {
   "codemirror_mode": {
    "name": "ipython",
    "version": 3
   },
   "file_extension": ".py",
   "mimetype": "text/x-python",
   "name": "python",
   "nbconvert_exporter": "python",
   "pygments_lexer": "ipython3",
   "version": "3.6.6"
  }
 },
 "nbformat": 4,
 "nbformat_minor": 2
}
