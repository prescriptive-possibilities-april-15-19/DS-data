{
 "cells": [
  {
   "cell_type": "code",
   "execution_count": 3,
   "metadata": {},
   "outputs": [],
   "source": [
    "from sklearn.feature_extraction.text import TfidfVectorizer\n",
    "import pandas as pd\n",
    "import pickle\n",
    "\n",
    "min_f_count = 2\n",
    "ngram_max = 10\n",
    "max_features = 10000"
   ]
  },
  {
   "cell_type": "code",
   "execution_count": null,
   "metadata": {},
   "outputs": [],
   "source": [
    "df_sequences = pd.read_csv(\"sequences.csv\", index_col=\"index\")\n",
    "\n",
    "tfidf = TfidfVectorizer(\n",
    "    lowercase=False,\n",
    "    analyzer='char',\n",
    "    stop_words=None,\n",
    "    ngram_range=(1,ngram_max),\n",
    "    min_df=min_f_count,\n",
    "    max_features=max_features\n",
    ")\n",
    "tf.fit(df_sequences[\"sequence\"].values)\n",
    "\n",
    "with open(\"../models/tfidf.pickle\", \"wb\") as fp:\n",
    "    pickle.dump(fp)"
   ]
  }
 ],
 "metadata": {
  "kernelspec": {
   "display_name": "Python 3",
   "language": "python",
   "name": "python3"
  },
  "language_info": {
   "codemirror_mode": {
    "name": "ipython",
    "version": 3
   },
   "file_extension": ".py",
   "mimetype": "text/x-python",
   "name": "python",
   "nbconvert_exporter": "python",
   "pygments_lexer": "ipython3",
   "version": "3.7.1"
  }
 },
 "nbformat": 4,
 "nbformat_minor": 2
}
